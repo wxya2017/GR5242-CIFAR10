{
  "nbformat": 4,
  "nbformat_minor": 0,
  "metadata": {
    "colab": {
      "name": "keras_model_new.ipynb",
      "version": "0.3.2",
      "provenance": [],
      "collapsed_sections": [],
      "include_colab_link": true
    },
    "kernelspec": {
      "name": "python3",
      "display_name": "Python 3"
    },
    "accelerator": "GPU"
  },
  "cells": [
    {
      "cell_type": "markdown",
      "metadata": {
        "id": "view-in-github",
        "colab_type": "text"
      },
      "source": [
        "<a href=\"https://colab.research.google.com/github/wxya2017/GR5242-CIFAR10/blob/master/keras_model_new.ipynb\" target=\"_parent\"><img src=\"https://colab.research.google.com/assets/colab-badge.svg\" alt=\"Open In Colab\"/></a>"
      ]
    },
    {
      "metadata": {
        "id": "NqySGebkCKkC",
        "colab_type": "code",
        "colab": {}
      },
      "cell_type": "code",
      "source": [
        "!apt-get install -y -qq software-properties-common python-software-properties module-init-tools\n",
        "!add-apt-repository -y ppa:alessandro-strada/ppa 2>&1 > /dev/null\n",
        "!apt-get update -qq 2>&1 > /dev/null\n",
        "!apt-get -y install -qq google-drive-ocamlfuse fuse\n",
        "from google.colab import auth\n",
        "auth.authenticate_user()\n",
        "from oauth2client.client import GoogleCredentials\n",
        "creds = GoogleCredentials.get_application_default()\n",
        "import getpass\n",
        "!google-drive-ocamlfuse -headless -id={creds.client_id} -secret={creds.client_secret} < /dev/null 2>&1 | grep URL\n",
        "vcode = getpass.getpass()\n",
        "!echo {vcode} | google-drive-ocamlfuse -headless -id={creds.client_id} -secret={creds.client_secret}\n"
      ],
      "execution_count": 0,
      "outputs": []
    },
    {
      "metadata": {
        "id": "m7VOZ-TkCPzJ",
        "colab_type": "code",
        "colab": {}
      },
      "cell_type": "code",
      "source": [
        "!mkdir -p drive\n",
        "!google-drive-ocamlfuse drive\n",
        "# 指定当前的工作目录"
      ],
      "execution_count": 0,
      "outputs": []
    },
    {
      "metadata": {
        "id": "PpnbIbFm3KYN",
        "colab_type": "code",
        "colab": {}
      },
      "cell_type": "code",
      "source": [
        "import os\n",
        "os.chdir(\"drive/5242\") "
      ],
      "execution_count": 0,
      "outputs": []
    },
    {
      "metadata": {
        "id": "NrLb96P4CTnv",
        "colab_type": "code",
        "colab": {
          "base_uri": "https://localhost:8080/",
          "height": 90
        },
        "outputId": "f61a4873-72bf-4e2f-e0f4-dab160b8a5a6"
      },
      "cell_type": "code",
      "source": [
        "import cv2\n",
        "import numpy as np\n",
        "import seaborn as sn\n",
        "import pandas as pd\n",
        "import matplotlib.pyplot as plt\n",
        "from sklearn.cross_validation import train_test_split\n",
        "from sklearn.metrics import confusion_matrix\n",
        "import tensorflow as tf\n",
        "# from tensorflow.python.eager import context\n",
        "\n",
        "import keras\n",
        "# from tensorflow.keras.models import Sequential, load_model\n",
        "# from tensorflow.keras.preprocessing.image import ImageDataGenerator\n",
        "# from tensorflow.keras.layers import Dense, Activation, Flatten, Dropout, BatchNormalization\n",
        "# from tensorflow.train import AdamOptimizer\n",
        "# from tensorflow.keras.layers import Conv2D, MaxPooling2D\n",
        "# from tensorflow.keras import regularizers, optimizers\n",
        "# from tensorflow.keras.callbacks import TensorBoard\n",
        "# from tensorflow.keras import regularizers, optimizers\n",
        "import time\n",
        "\n",
        "from keras.models import Sequential, load_model\n",
        "from keras.preprocessing.image import ImageDataGenerator\n",
        "from keras.layers import Dense, Activation, Flatten, Dropout, BatchNormalization\n",
        "from keras.layers import Conv2D, MaxPooling2D, AveragePooling2D\n",
        "from keras import regularizers, optimizers\n",
        "from keras.callbacks import TensorBoard\n",
        "from keras import regularizers, optimizers\n"
      ],
      "execution_count": 4,
      "outputs": [
        {
          "output_type": "stream",
          "text": [
            "/usr/local/lib/python3.6/dist-packages/sklearn/cross_validation.py:41: DeprecationWarning: This module was deprecated in version 0.18 in favor of the model_selection module into which all the refactored classes and functions are moved. Also note that the interface of the new CV iterators are different from that of this module. This module will be removed in 0.20.\n",
            "  \"This module will be removed in 0.20.\", DeprecationWarning)\n",
            "Using TensorFlow backend.\n"
          ],
          "name": "stderr"
        }
      ]
    },
    {
      "metadata": {
        "id": "vAtl2Zl5CgDo",
        "colab_type": "code",
        "colab": {}
      },
      "cell_type": "code",
      "source": [
        "import os\n",
        "import tensorflow as tf\n",
        "from keras.callbacks import TensorBoard\n",
        "\n",
        "class TrainValTensorBoard(TensorBoard):\n",
        "    def __init__(self, log_dir='./logs', **kwargs):\n",
        "        # Make the original `TensorBoard` log to a subdirectory 'training'\n",
        "        training_log_dir = os.path.join(log_dir, 'training')\n",
        "        super(TrainValTensorBoard, self).__init__(training_log_dir, **kwargs)\n",
        "\n",
        "        # Log the validation metrics to a separate subdirectory\n",
        "        self.val_log_dir = os.path.join(log_dir, 'validation')\n",
        "\n",
        "    def set_model(self, model):\n",
        "        # Setup writer for validation metrics\n",
        "        self.val_writer = tf.summary.FileWriter(self.val_log_dir)\n",
        "        super(TrainValTensorBoard, self).set_model(model)\n",
        "\n",
        "    def on_epoch_end(self, epoch, logs=None):\n",
        "        # Pop the validation logs and handle them separately with\n",
        "        # `self.val_writer`. Also rename the keys so that they can\n",
        "        # be plotted on the same figure with the training metrics\n",
        "        logs = logs or {}\n",
        "        val_logs = {k.replace('val_', ''): v for k, v in logs.items() if k.startswith('val_')}\n",
        "        for name, value in val_logs.items():\n",
        "            summary = tf.Summary()\n",
        "            summary_value = summary.value.add()\n",
        "            summary_value.simple_value = value.item()\n",
        "            summary_value.tag = name\n",
        "            self.val_writer.add_summary(summary, epoch)\n",
        "        self.val_writer.flush()\n",
        "\n",
        "        # Pass the remaining logs to `TensorBoard.on_epoch_end`\n",
        "        logs = {k: v for k, v in logs.items() if not k.startswith('val_')}\n",
        "        super(TrainValTensorBoard, self).on_epoch_end(epoch, logs)\n",
        "\n",
        "    def on_train_end(self, logs=None):\n",
        "        super(TrainValTensorBoard, self).on_train_end(logs)\n",
        "        self.val_writer.close()"
      ],
      "execution_count": 0,
      "outputs": []
    },
    {
      "metadata": {
        "id": "yes5q0LvCioh",
        "colab_type": "code",
        "colab": {}
      },
      "cell_type": "code",
      "source": [
        "# Run Tensorflow in the background - note that we specify the log \n",
        "# directory we want to look at\n",
        "LOG_DIR = 'logs_keras_new'\n",
        "get_ipython().system_raw(\n",
        "    'tensorboard --logdir {} --host 0.0.0.0 --port 6006 &'\n",
        "    .format(LOG_DIR)\n",
        ")"
      ],
      "execution_count": 0,
      "outputs": []
    },
    {
      "metadata": {
        "id": "o0TFtxxgOl5t",
        "colab_type": "code",
        "colab": {
          "base_uri": "https://localhost:8080/",
          "height": 34
        },
        "outputId": "786b5275-1f50-4921-db1f-1807e63b9a5e"
      },
      "cell_type": "code",
      "source": [
        "# Launch the ngrok background process\n",
        "get_ipython().system_raw('./ngrok http 6006 &')\n",
        "\n",
        "# Get the public URL and be sorted!\n",
        "! curl -s http://localhost:4040/api/tunnels | python3 -c\\\n",
        "    \"import sys, json; print(json.load(sys.stdin)['tunnels'][0]['public_url'])\""
      ],
      "execution_count": 25,
      "outputs": [
        {
          "output_type": "stream",
          "text": [
            "https://2e4a58c9.ngrok.io\n"
          ],
          "name": "stdout"
        }
      ]
    },
    {
      "metadata": {
        "id": "nJN3LnP3C1vQ",
        "colab_type": "code",
        "colab": {}
      },
      "cell_type": "code",
      "source": [
        "def unpickle(file):\n",
        "    import pickle\n",
        "    with open(file, 'rb') as fo:\n",
        "        dict = pickle.load(fo, encoding='bytes')\n",
        "    return dict\n",
        "\n",
        "\n",
        "def load_data(dir):\n",
        "    train_x = np.array(unpickle(dir+'data_batch_1')[b'data'])\n",
        "    train_y = np.array(unpickle(dir+'data_batch_1')[b'labels'])\n",
        "    for i in range(2,6):\n",
        "        train_x = np.concatenate((train_x, np.array(unpickle(dir+'data_batch_'+str(i))[b'data'])), axis = 0)\n",
        "        train_y = np.concatenate((train_y, np.array(unpickle(dir+'data_batch_'+str(i))[b'labels'])),axis = 0)\n",
        "\n",
        "\n",
        "    test_x = np.array(unpickle(dir+'test_batch')[b'data'])\n",
        "    test_y = np.array(unpickle(dir+'test_batch')[b'labels'])   \n",
        "    labels = unpickle(dir+'batches.meta')[b'label_names']\n",
        "    return train_x, train_y, test_x, test_y, labels"
      ],
      "execution_count": 0,
      "outputs": []
    },
    {
      "metadata": {
        "id": "oP8XMfOKCxuz",
        "colab_type": "code",
        "colab": {}
      },
      "cell_type": "code",
      "source": [
        "def reshape(image):\n",
        "    out = np.zeros(shape=[32,32,3])\n",
        "    for i in range(3):\n",
        "        out[:,:,i] = image[1024*i:1024*(i+1)].reshape([32,32])\n",
        "    return out\n",
        "\n",
        "def pre_process_x(x):\n",
        "    new_x = np.zeros(shape=[len(x),32,32,3])\n",
        "    for i in range(len(x)):\n",
        "        new_x[i] = reshape(x[i])\n",
        "    new_x = new_x/255\n",
        "    return new_x\n",
        "\n",
        "def pre_process_y(y):\n",
        "    new_y = np.zeros([len(y),10])\n",
        "    for i in range(len(y)):\n",
        "        new_y[i][y[i]-1] = 1\n",
        "    return new_y"
      ],
      "execution_count": 0,
      "outputs": []
    },
    {
      "metadata": {
        "id": "C69vCKS3C8SL",
        "colab_type": "code",
        "colab": {}
      },
      "cell_type": "code",
      "source": [
        "# Functions for plots\n",
        "def plot_model_history(model_history):\n",
        "    fig, axs = plt.subplots(1, 2,figsize=(10, 5))\n",
        "    # summarize history for accuracy\n",
        "    axs[0].plot(range(1,len(model_history.history['acc'])+1),model_history.history['acc'])\n",
        "    axs[0].plot(range(1,len(model_history.history['val_acc'])+1),model_history.history['val_acc'])\n",
        "    axs[0].set_title('Model Accuracy')\n",
        "    axs[0].set_ylabel('Accuracy')\n",
        "    axs[0].set_xlabel('Epoch')\n",
        "    axs[0].set_xticks(np.arange(1,len(model_history.history['acc'])+1),len(model_history.history['acc'])/10)\n",
        "    axs[0].legend(['train', 'validation'], loc='best')\n",
        "    # summarize history for loss\n",
        "    axs[1].plot(range(1,len(model_history.history['loss'])+1),model_history.history['loss'])\n",
        "    axs[1].plot(range(1,len(model_history.history['val_loss'])+1),model_history.history['val_loss'])\n",
        "    axs[1].set_title('Model Loss')\n",
        "    axs[1].set_ylabel('Loss')\n",
        "    axs[1].set_xlabel('Epoch')\n",
        "    axs[1].set_xticks(np.arange(1,len(model_history.history['loss'])+1),len(model_history.history['loss'])/10)\n",
        "    axs[1].legend(['train', 'validation'], loc='best')\n",
        "    plt.show()"
      ],
      "execution_count": 0,
      "outputs": []
    },
    {
      "metadata": {
        "id": "Po2A6twfDAD3",
        "colab_type": "code",
        "colab": {
          "base_uri": "https://localhost:8080/",
          "height": 87
        },
        "outputId": "ed29e5c9-1ce8-4ea9-ef9a-5cb16249cd42"
      },
      "cell_type": "code",
      "source": [
        "ori_train_x, ori_train_y, ori_test_x, ori_test_y, labels = load_data('data/')\n",
        "\n",
        "train_x = pre_process_x(ori_train_x)\n",
        "test_x = pre_process_x(ori_test_x)\n",
        "train_y = pre_process_y(ori_train_y)\n",
        "test_y = pre_process_y(ori_test_y)\n",
        "print(\"===>training data shape is \"+ str(train_x.shape))\n",
        "print(\"===>test data shape is \"+ str(test_x.shape))\n",
        "print(\"===>training label shape is \"+ str(train_y.shape))\n",
        "print(\"===>test label shape is \"+ str(test_y.shape))"
      ],
      "execution_count": 14,
      "outputs": [
        {
          "output_type": "stream",
          "text": [
            "===>training data shape is (50000, 32, 32, 3)\n",
            "===>test data shape is (10000, 32, 32, 3)\n",
            "===>training label shape is (50000, 10)\n",
            "===>test label shape is (10000, 10)\n"
          ],
          "name": "stdout"
        }
      ]
    },
    {
      "metadata": {
        "id": "ldRZwxJSDC-l",
        "colab_type": "code",
        "colab": {}
      },
      "cell_type": "code",
      "source": [
        "train_x, valid_x, train_y, valid_y = train_test_split(train_x, train_y, test_size = 0.2, random_state = 0)"
      ],
      "execution_count": 0,
      "outputs": []
    },
    {
      "metadata": {
        "id": "Plc8prdX4Nkb",
        "colab_type": "code",
        "colab": {}
      },
      "cell_type": "code",
      "source": [
        "#data augmentation\n",
        "datagen = ImageDataGenerator(\n",
        "    featurewise_center=False,\n",
        "    samplewise_center=False,\n",
        "    featurewise_std_normalization=False,\n",
        "    samplewise_std_normalization=False,\n",
        "    zca_whitening=False,\n",
        "    rotation_range=15,\n",
        "    width_shift_range=0.1,\n",
        "    height_shift_range=0.1,\n",
        "    horizontal_flip=True,\n",
        "    vertical_flip=False\n",
        "    )"
      ],
      "execution_count": 0,
      "outputs": []
    },
    {
      "metadata": {
        "id": "QT7lkcyiIxN1",
        "colab_type": "text"
      },
      "cell_type": "markdown",
      "source": [
        "# baseline"
      ]
    },
    {
      "metadata": {
        "id": "l1BzLs7QDGSc",
        "colab_type": "code",
        "colab": {}
      },
      "cell_type": "code",
      "source": [
        "def build_model_base(num_classes = 10, baseMapNum = 32):\n",
        "    '''build weight decay model'''\n",
        "    model_base = Sequential()\n",
        "    model_base.add(Conv2D(baseMapNum, (3,3), name='conv1', padding='same', kernel_regularizer=regularizers.l2(1e-4), input_shape=train_x.shape[1:]))\n",
        "    model_base.add(Activation('relu', name='relu1'))\n",
        "    \n",
        "    model_base.add(Conv2D(baseMapNum, (3,3), name='conv2', padding='same', kernel_regularizer=regularizers.l2(1e-4)))\n",
        "    model_base.add(Activation('relu', name='relu2'))\n",
        "    model_base.add(MaxPooling2D(pool_size=(2,2), name='maxp1'))\n",
        "    model_base.add(Dropout(0.5, name='drop1'))\n",
        "    \n",
        "    model_base.add(Conv2D(2*baseMapNum, (3,3), name='conv3', padding='same', kernel_regularizer=regularizers.l2(1e-4)))\n",
        "    model_base.add(Activation('relu', name='relu3'))\n",
        "    \n",
        "    model_base.add(Conv2D(2*baseMapNum, (3,3), name='conv4', padding='same', kernel_regularizer=regularizers.l2(1e-4)))\n",
        "    model_base.add(Activation('relu', name='relu4'))\n",
        "    model_base.add(MaxPooling2D(pool_size=(2,2), name='maxp2'))\n",
        "    model_base.add(Dropout(0.3, name='drop2'))\n",
        "\n",
        "\n",
        "    model_base.add(Flatten())\n",
        "    model_base.add(Dense(num_classes, activation='softmax', name='dense'))\n",
        "    \n",
        "    model_base.compile(optimizer='adam', loss='categorical_crossentropy', metrics=['accuracy']) \n",
        "    return model_base\n"
      ],
      "execution_count": 0,
      "outputs": []
    },
    {
      "metadata": {
        "id": "Lgf1wWDpDHHs",
        "colab_type": "code",
        "colab": {
          "base_uri": "https://localhost:8080/",
          "height": 650
        },
        "outputId": "b9cd00dc-5994-4c58-bc66-15f22cc3c507"
      },
      "cell_type": "code",
      "source": [
        "model_base = build_model_base()\n",
        "print(model_base.summary())"
      ],
      "execution_count": 12,
      "outputs": [
        {
          "output_type": "stream",
          "text": [
            "_________________________________________________________________\n",
            "Layer (type)                 Output Shape              Param #   \n",
            "=================================================================\n",
            "conv1 (Conv2D)               (None, 32, 32, 32)        896       \n",
            "_________________________________________________________________\n",
            "relu1 (Activation)           (None, 32, 32, 32)        0         \n",
            "_________________________________________________________________\n",
            "conv2 (Conv2D)               (None, 32, 32, 32)        9248      \n",
            "_________________________________________________________________\n",
            "relu2 (Activation)           (None, 32, 32, 32)        0         \n",
            "_________________________________________________________________\n",
            "maxp1 (MaxPooling2D)         (None, 16, 16, 32)        0         \n",
            "_________________________________________________________________\n",
            "drop1 (Dropout)              (None, 16, 16, 32)        0         \n",
            "_________________________________________________________________\n",
            "conv3 (Conv2D)               (None, 16, 16, 64)        18496     \n",
            "_________________________________________________________________\n",
            "relu3 (Activation)           (None, 16, 16, 64)        0         \n",
            "_________________________________________________________________\n",
            "conv4 (Conv2D)               (None, 16, 16, 64)        36928     \n",
            "_________________________________________________________________\n",
            "relu4 (Activation)           (None, 16, 16, 64)        0         \n",
            "_________________________________________________________________\n",
            "maxp2 (MaxPooling2D)         (None, 8, 8, 64)          0         \n",
            "_________________________________________________________________\n",
            "drop2 (Dropout)              (None, 8, 8, 64)          0         \n",
            "_________________________________________________________________\n",
            "flatten_1 (Flatten)          (None, 4096)              0         \n",
            "_________________________________________________________________\n",
            "dense (Dense)                (None, 10)                40970     \n",
            "=================================================================\n",
            "Total params: 106,538\n",
            "Trainable params: 106,538\n",
            "Non-trainable params: 0\n",
            "_________________________________________________________________\n",
            "None\n"
          ],
          "name": "stdout"
        }
      ]
    },
    {
      "metadata": {
        "id": "Qe3-fk6PGyVT",
        "colab_type": "code",
        "colab": {}
      },
      "cell_type": "code",
      "source": [
        "tbCallBack =TrainValTensorBoard(log_dir='logs_keras_new/model_baseline_ep250', write_graph=True)\n",
        "datagen.fit(train_x)\n",
        "#training\n",
        "start = time.time()\n",
        "\n",
        "batch_size = 128\n",
        "epochs=250\n",
        "iterations = int(train_x.shape[0]/128)\n",
        "fit_history_base = model_base.fit_generator(datagen.flow(train_x, train_y, batch_size=batch_size),\n",
        "                                            steps_per_epoch=iterations,\n",
        "                                            epochs=epochs,\n",
        "                                            verbose=1,\n",
        "                                            validation_data=(valid_x,valid_y),\n",
        "                                            callbacks=[tbCallBack])\n",
        "                    \n",
        "model_base.save('model/model_baseline_ep250.h5')\n",
        "\n",
        "end = time.time()\n",
        "print(\"Model took %0.2f seconds to train\"%(end - start))"
      ],
      "execution_count": 0,
      "outputs": []
    },
    {
      "metadata": {
        "id": "_BVVs2EozJUl",
        "colab_type": "code",
        "colab": {
          "base_uri": "https://localhost:8080/",
          "height": 70
        },
        "outputId": "04e03aa5-d383-4eb4-c9f9-85f21fda9c80"
      },
      "cell_type": "code",
      "source": [
        "# plot_model_history(fit_history1)\n",
        "baseline_evalu = model_base.evaluate(test_x, test_y, batch_size=128, verbose=1)\n",
        "acc = baseline_evalu[1]; loss = baseline_evalu[0]\n",
        "print('\\nTest result: %.3f loss: %.3f' % (acc*100, loss))\n",
        "\n",
        "# model_decay_test = load_model('model/model_weight_decay_test.h5')"
      ],
      "execution_count": 15,
      "outputs": [
        {
          "output_type": "stream",
          "text": [
            "10000/10000 [==============================] - 1s 90us/step\n",
            "\n",
            "Test result: 77.340 loss: 0.820\n"
          ],
          "name": "stdout"
        }
      ]
    },
    {
      "metadata": {
        "id": "qdgl1YbZzYGK",
        "colab_type": "code",
        "colab": {
          "base_uri": "https://localhost:8080/",
          "height": 459
        },
        "outputId": "bbff6113-5bfb-4ca9-bc79-31f718aba7af"
      },
      "cell_type": "code",
      "source": [
        "y_prob_base = model_base.predict(test_x) \n",
        "y_pred_base = y_prob_base.argmax(axis=-1)\n",
        "y_true = np.where(test_y == 1)[1]\n",
        "cm = confusion_matrix(y_true, y_pred_base, labels = range(10))\n",
        "df_cm = pd.DataFrame(cm, index = [i for i in labels],\n",
        "                     columns = [i for i in labels])\n",
        "plt.figure(figsize = (10,7))\n",
        "sn.heatmap(df_cm, annot=True)\n",
        "plt.xlabel('True label')\n",
        "plt.ylabel('Predicted label')"
      ],
      "execution_count": 20,
      "outputs": [
        {
          "output_type": "execute_result",
          "data": {
            "text/plain": [
              "Text(69,0.5,'Predicted label')"
            ]
          },
          "metadata": {
            "tags": []
          },
          "execution_count": 20
        },
        {
          "output_type": "display_data",
          "data": {
            "image/png": "[encoded data removed]",
            "text/plain": [
              "<matplotlib.figure.Figure at 0x7f17a5734cc0>"
            ]
          },
          "metadata": {
            "tags": []
          }
        }
      ]
    },
    {
      "metadata": {
        "id": "C_8Y6CVBI0MB",
        "colab_type": "text"
      },
      "cell_type": "markdown",
      "source": [
        "# more layers: weight decay l2, batchnormalization"
      ]
    },
    {
      "metadata": {
        "id": "HJt-cdQmI1_m",
        "colab_type": "code",
        "colab": {}
      },
      "cell_type": "code",
      "source": [
        "def build_model_batchnorm(num_classes = 10, baseMapNum = 32, weight_decay = 1e-4):\n",
        "    '''build weight decay model'''\n",
        "    model_decay = Sequential()\n",
        "    model_decay.add(Conv2D(baseMapNum, (3,3), name='conv1', padding='same', kernel_regularizer=regularizers.l2(weight_decay), input_shape=train_x.shape[1:]))\n",
        "    model_decay.add(Activation('relu', name='relu1'))\n",
        "    model_decay.add(BatchNormalization(name='batchn1'))\n",
        "    model_decay.add(Conv2D(baseMapNum, (3,3), name='conv2', padding='same', kernel_regularizer=regularizers.l2(weight_decay)))\n",
        "    model_decay.add(Activation('relu', name='relu2'))\n",
        "    model_decay.add(BatchNormalization(name='batchn2'))\n",
        "    model_decay.add(MaxPooling2D(pool_size=(2,2), name='maxp1'))\n",
        "    model_decay.add(Dropout(0.2, name='drop1'))\n",
        "\n",
        "    model_decay.add(Conv2D(2*baseMapNum, (3,3), name='conv3', padding='same', kernel_regularizer=regularizers.l2(weight_decay)))\n",
        "    model_decay.add(Activation('relu', name='relu3'))\n",
        "    model_decay.add(BatchNormalization(name='batchn3'))\n",
        "    model_decay.add(Conv2D(2*baseMapNum, (3,3), name='conv4', padding='same', kernel_regularizer=regularizers.l2(weight_decay)))\n",
        "    model_decay.add(Activation('relu', name='relu4'))\n",
        "    model_decay.add(BatchNormalization(name='batchn4'))\n",
        "    model_decay.add(MaxPooling2D(pool_size=(2,2), name='maxp2'))\n",
        "    model_decay.add(Dropout(0.3, name='drop2'))\n",
        "\n",
        "    model_decay.add(Conv2D(4*baseMapNum, (3,3), name='conv5', padding='same', kernel_regularizer=regularizers.l2(weight_decay)))\n",
        "    model_decay.add(Activation('relu', name='relu5'))\n",
        "    model_decay.add(BatchNormalization(name='batchn5'))\n",
        "    model_decay.add(Conv2D(4*baseMapNum, (3,3), name='conv6', padding='same', kernel_regularizer=regularizers.l2(weight_decay)))\n",
        "    model_decay.add(Activation('relu', name='relu6'))\n",
        "    model_decay.add(BatchNormalization(name='batchn6'))\n",
        "    model_decay.add(MaxPooling2D(pool_size=(2,2), name='maxp3'))\n",
        "    model_decay.add(Dropout(0.4, name='drop3'))\n",
        "\n",
        "    model_decay.add(Flatten(name='flat1'))\n",
        "    model_decay.add(Dense(num_classes, activation='softmax', name='dense1'))\n",
        "    \n",
        "    opt_rms = keras.optimizers.rmsprop(lr=0.001,decay=1e-6)\n",
        "    model_decay.compile(loss='categorical_crossentropy', optimizer=opt_rms, metrics=['accuracy'])\n",
        "    \n",
        "    return model_decay\n"
      ],
      "execution_count": 0,
      "outputs": []
    },
    {
      "metadata": {
        "id": "nfzpU8tuI59M",
        "colab_type": "code",
        "colab": {
          "base_uri": "https://localhost:8080/",
          "height": 1073
        },
        "outputId": "2b9324da-0430-41a2-c20a-16b48c227600"
      },
      "cell_type": "code",
      "source": [
        "model_batchnorm = build_model_batchnorm()\n",
        "print(model_batchnorm.summary())"
      ],
      "execution_count": 17,
      "outputs": [
        {
          "output_type": "stream",
          "text": [
            "_________________________________________________________________\n",
            "Layer (type)                 Output Shape              Param #   \n",
            "=================================================================\n",
            "conv1 (Conv2D)               (None, 32, 32, 32)        896       \n",
            "_________________________________________________________________\n",
            "relu1 (Activation)           (None, 32, 32, 32)        0         \n",
            "_________________________________________________________________\n",
            "batchn1 (BatchNormalization) (None, 32, 32, 32)        128       \n",
            "_________________________________________________________________\n",
            "conv2 (Conv2D)               (None, 32, 32, 32)        9248      \n",
            "_________________________________________________________________\n",
            "relu2 (Activation)           (None, 32, 32, 32)        0         \n",
            "_________________________________________________________________\n",
            "batchn2 (BatchNormalization) (None, 32, 32, 32)        128       \n",
            "_________________________________________________________________\n",
            "maxp1 (MaxPooling2D)         (None, 16, 16, 32)        0         \n",
            "_________________________________________________________________\n",
            "drop1 (Dropout)              (None, 16, 16, 32)        0         \n",
            "_________________________________________________________________\n",
            "conv3 (Conv2D)               (None, 16, 16, 64)        18496     \n",
            "_________________________________________________________________\n",
            "relu3 (Activation)           (None, 16, 16, 64)        0         \n",
            "_________________________________________________________________\n",
            "batchn3 (BatchNormalization) (None, 16, 16, 64)        256       \n",
            "_________________________________________________________________\n",
            "conv4 (Conv2D)               (None, 16, 16, 64)        36928     \n",
            "_________________________________________________________________\n",
            "relu4 (Activation)           (None, 16, 16, 64)        0         \n",
            "_________________________________________________________________\n",
            "batchn4 (BatchNormalization) (None, 16, 16, 64)        256       \n",
            "_________________________________________________________________\n",
            "maxp2 (MaxPooling2D)         (None, 8, 8, 64)          0         \n",
            "_________________________________________________________________\n",
            "drop2 (Dropout)              (None, 8, 8, 64)          0         \n",
            "_________________________________________________________________\n",
            "conv5 (Conv2D)               (None, 8, 8, 128)         73856     \n",
            "_________________________________________________________________\n",
            "relu5 (Activation)           (None, 8, 8, 128)         0         \n",
            "_________________________________________________________________\n",
            "batchn5 (BatchNormalization) (None, 8, 8, 128)         512       \n",
            "_________________________________________________________________\n",
            "conv6 (Conv2D)               (None, 8, 8, 128)         147584    \n",
            "_________________________________________________________________\n",
            "relu6 (Activation)           (None, 8, 8, 128)         0         \n",
            "_________________________________________________________________\n",
            "batchn6 (BatchNormalization) (None, 8, 8, 128)         512       \n",
            "_________________________________________________________________\n",
            "maxp3 (MaxPooling2D)         (None, 4, 4, 128)         0         \n",
            "_________________________________________________________________\n",
            "drop3 (Dropout)              (None, 4, 4, 128)         0         \n",
            "_________________________________________________________________\n",
            "flat1 (Flatten)              (None, 2048)              0         \n",
            "_________________________________________________________________\n",
            "dense1 (Dense)               (None, 10)                20490     \n",
            "=================================================================\n",
            "Total params: 309,290\n",
            "Trainable params: 308,394\n",
            "Non-trainable params: 896\n",
            "_________________________________________________________________\n",
            "None\n"
          ],
          "name": "stdout"
        }
      ]
    },
    {
      "metadata": {
        "id": "NaZtBcf6cJQr",
        "colab_type": "text"
      },
      "cell_type": "markdown",
      "source": [
        "150 epochs"
      ]
    },
    {
      "metadata": {
        "id": "Th8SqSFgK3MM",
        "colab_type": "code",
        "colab": {}
      },
      "cell_type": "code",
      "source": [
        "tbCallBack =TrainValTensorBoard(log_dir='logs_keras_new/model_batchnorm_ep150',write_graph=True)\n",
        "datagen.fit(train_x)\n",
        "\n",
        "#training\n",
        "start = time.time()\n",
        "\n",
        "batch_size = 128\n",
        "epochs=150\n",
        "iterations = int(train_x.shape[0]/128)\n",
        "steps_per_epoch=iterations\n",
        "fit_history_batchnorm150 = model_batchnorm.fit_generator(datagen.flow(train_x, train_y, batch_size=batch_size),\n",
        "                                         steps_per_epoch=iterations,\n",
        "                                         epochs=epochs,\n",
        "                                         verbose=1,\n",
        "                                         validation_data=(valid_x,valid_y),\n",
        "                                         callbacks=[tbCallBack])\n",
        "model_batchnorm.save('model/model_batchnorm_ep150.h5')\n",
        "\n",
        "end = time.time()\n",
        "print(\"Model took %0.2f seconds to train\"%(end - start))\n"
      ],
      "execution_count": 0,
      "outputs": []
    },
    {
      "metadata": {
        "id": "hZFY9v5tSRAP",
        "colab_type": "code",
        "colab": {
          "base_uri": "https://localhost:8080/",
          "height": 70
        },
        "outputId": "b5a94118-0138-40ef-80e8-b3e994ad982d"
      },
      "cell_type": "code",
      "source": [
        "# plot_model_history(fit_history1)\n",
        "batchnorm_evalu = model_batchnorm.evaluate(test_x, test_y, batch_size=128, verbose=1)\n",
        "acc = batchnorm_evalu[1]; loss = batchnorm_evalu[0]\n",
        "print('\\nTest result: %.3f loss: %.3f' % (acc*100, loss))\n",
        "\n",
        "# model_decay_test = load_model('model/model_weight_decay_test.h5')"
      ],
      "execution_count": 21,
      "outputs": [
        {
          "output_type": "stream",
          "text": [
            "10000/10000 [==============================] - 2s 192us/step\n",
            "\n",
            "Test result: 79.780 loss: 0.815\n"
          ],
          "name": "stdout"
        }
      ]
    },
    {
      "metadata": {
        "id": "_2NprnDSTn1Z",
        "colab_type": "code",
        "colab": {
          "base_uri": "https://localhost:8080/",
          "height": 446
        },
        "outputId": "417e5f50-99a3-4039-9c50-5edf74cf7ea9"
      },
      "cell_type": "code",
      "source": [
        "y_prob = model_batchnorm.predict(test_x) \n",
        "y_pred = y_prob.argmax(axis=-1)\n",
        "y_true = np.where(test_y == 1)[1]\n",
        "cm = confusion_matrix(y_true, y_pred, labels = range(10))\n",
        "df_cm = pd.DataFrame(cm, index = [i for i in labels],\n",
        "                     columns = [i for i in labels])\n",
        "plt.figure(figsize = (10,7))\n",
        "sn.heatmap(df_cm, annot=True)"
      ],
      "execution_count": 23,
      "outputs": [
        {
          "output_type": "execute_result",
          "data": {
            "text/plain": [
              "<matplotlib.axes._subplots.AxesSubplot at 0x7f06314990f0>"
            ]
          },
          "metadata": {
            "tags": []
          },
          "execution_count": 23
        },
        {
          "output_type": "display_data",
          "data": {
            "image/png": "[encoded data removed]",
            "text/plain": [
              "<matplotlib.figure.Figure at 0x7f06328afdd8>"
            ]
          },
          "metadata": {
            "tags": []
          }
        }
      ]
    },
    {
      "metadata": {
        "id": "USiF8HmPcES_",
        "colab_type": "text"
      },
      "cell_type": "markdown",
      "source": [
        "250 epochs"
      ]
    },
    {
      "metadata": {
        "id": "2200Q1n9cCKm",
        "colab_type": "code",
        "colab": {}
      },
      "cell_type": "code",
      "source": [
        "model_batchnorm = build_model_batchnorm()"
      ],
      "execution_count": 0,
      "outputs": []
    },
    {
      "metadata": {
        "id": "yGn7J-Jhb8vk",
        "colab_type": "code",
        "colab": {}
      },
      "cell_type": "code",
      "source": [
        "tbCallBack =TrainValTensorBoard(log_dir='logs_keras_new/model_batchnorm_ep250',write_graph=True)\n",
        "datagen.fit(train_x)\n",
        "\n",
        "#training\n",
        "start = time.time()\n",
        "\n",
        "batch_size = 128\n",
        "epochs=250\n",
        "iterations = int(train_x.shape[0]/128)\n",
        "steps_per_epoch=iterations\n",
        "fit_history_batchnorm_250 = model_batchnorm.fit_generator(datagen.flow(train_x, train_y, batch_size=batch_size),\n",
        "                                         steps_per_epoch=iterations,\n",
        "                                         epochs=epochs,\n",
        "                                         verbose=1,\n",
        "                                         validation_data=(valid_x,valid_y),\n",
        "                                         callbacks=[tbCallBack])\n",
        "model_batchnorm.save('model/model_batchnorm_ep250.h5')\n",
        "\n",
        "end = time.time()\n",
        "print(\"Model took %0.2f seconds to train\"%(end - start))"
      ],
      "execution_count": 0,
      "outputs": []
    },
    {
      "metadata": {
        "id": "gCXTRiEQ7ibe",
        "colab_type": "code",
        "colab": {
          "base_uri": "https://localhost:8080/",
          "height": 70
        },
        "outputId": "3b29d4ef-bed9-4b92-fd39-4899221907cc"
      },
      "cell_type": "code",
      "source": [
        "# plot_model_history(fit_history1)\n",
        "batchnorm_evalu = model_batchnorm.evaluate(test_x, test_y, batch_size=128, verbose=1)\n",
        "acc = batchnorm_evalu[1]; loss = batchnorm_evalu[0]\n",
        "print('\\nTest result: %.3f loss: %.3f' % (acc*100, loss))\n",
        "\n",
        "# model_decay_test = load_model('model/model_weight_decay_test.h5')"
      ],
      "execution_count": 28,
      "outputs": [
        {
          "output_type": "stream",
          "text": [
            "10000/10000 [==============================] - 2s 183us/step\n",
            "\n",
            "Test result: 88.310 loss: 0.503\n"
          ],
          "name": "stdout"
        }
      ]
    },
    {
      "metadata": {
        "id": "uXd6nZU67oSB",
        "colab_type": "code",
        "colab": {
          "base_uri": "https://localhost:8080/",
          "height": 446
        },
        "outputId": "9dd0b6ac-ad1d-4a56-d0c7-2f641de4873f"
      },
      "cell_type": "code",
      "source": [
        "y_prob = model_batchnorm.predict(test_x) \n",
        "y_pred = y_prob.argmax(axis=-1)\n",
        "y_true = np.where(test_y == 1)[1]\n",
        "cm = confusion_matrix(y_true, y_pred, labels = range(10))\n",
        "df_cm = pd.DataFrame(cm, index = [i for i in labels],\n",
        "                     columns = [i for i in labels])\n",
        "plt.figure(figsize = (10,7))\n",
        "sn.heatmap(df_cm, annot=True)"
      ],
      "execution_count": 29,
      "outputs": [
        {
          "output_type": "execute_result",
          "data": {
            "text/plain": [
              "<matplotlib.axes._subplots.AxesSubplot at 0x7f061cc385f8>"
            ]
          },
          "metadata": {
            "tags": []
          },
          "execution_count": 29
        },
        {
          "output_type": "display_data",
          "data": {
            "image/png": "[encoded data removed]",
            "text/plain": [
              "<matplotlib.figure.Figure at 0x7f06307e3518>"
            ]
          },
          "metadata": {
            "tags": []
          }
        }
      ]
    },
    {
      "metadata": {
        "id": "OhhFRKx0TQWz",
        "colab_type": "text"
      },
      "cell_type": "markdown",
      "source": [
        "# NIN"
      ]
    },
    {
      "metadata": {
        "id": "1KJYeF0kTPl2",
        "colab_type": "code",
        "colab": {}
      },
      "cell_type": "code",
      "source": [
        "def build_model_NIN(train_x, num_classes = 10, baseMapNum = 32, weight_decay = 1e-4):\n",
        "    '''build NIN model: \n",
        "       1.convolution layer followed by 2 1*1 convlution layer(mlp)\n",
        "       2.end with 10 filters mlp, averagepooling, softmax\n",
        "    '''\n",
        "    model= Sequential()\n",
        "    model.add(Conv2D(baseMapNum*3, (5,5), name='conv1', padding = 'same', kernel_regularizer=regularizers.l2(0.0001), input_shape=train_x.shape[1:]))\n",
        "    model.add(Activation('relu', name='relu1'))\n",
        "    model.add(Conv2D(baseMapNum*2, (1,1), name='mlp1', padding = 'same', kernel_regularizer=regularizers.l2(0.0001)))\n",
        "    model.add(Activation('relu', name='relu2'))\n",
        "    model.add(Conv2D(baseMapNum*2, (1,1), name='mlp2', padding = 'same', kernel_regularizer=regularizers.l2(0.0001)))\n",
        "    model.add(Activation('relu', name='relu3'))\n",
        "    model.add(MaxPooling2D(pool_size=(2, 2), name='maxp1'))\n",
        "    model.add(Dropout(0.5))\n",
        "    \n",
        "    model.add(Conv2D(baseMapNum*3, (3,3), name='conv2', padding = 'same', kernel_regularizer=regularizers.l2(0.0001)))\n",
        "    model.add(Activation('relu', name='relu4'))\n",
        "    model.add(Conv2D(baseMapNum*2, (1,1), name='mlp3', padding = 'same', kernel_regularizer=regularizers.l2(0.0001)))\n",
        "    model.add(Activation('relu', name='relu5'))\n",
        "    model.add(Conv2D(baseMapNum*2, (1,1), name='mlp4', padding = 'same', kernel_regularizer=regularizers.l2(0.0001)))\n",
        "    model.add(Activation('relu', name='relu6'))\n",
        "    model.add(MaxPooling2D(pool_size=(2, 2), name='maxp2'))\n",
        "    model.add(Dropout(0.5))\n",
        "    \n",
        "    model.add(Conv2D(baseMapNum*2, (3,3), name='conv3', padding = 'same', kernel_regularizer=regularizers.l2(0.0001)))\n",
        "    model.add(Activation('relu', name='relu7'))\n",
        "    model.add(Conv2D(baseMapNum, (1,1), name='mlp5', padding = 'same', kernel_regularizer=regularizers.l2(0.0001)))\n",
        "    model.add(Activation('relu', name='relu8'))\n",
        "    model.add(Conv2D(num_classes, (1,1), name='mlp6', padding = 'same', kernel_regularizer=regularizers.l2(0.0001)))\n",
        "    model.add(Activation('relu', name='relu9'))\n",
        "    model.add(AveragePooling2D(pool_size=(2, 2), name='maxp3'))\n",
        "    \n",
        "    model.add(Activation('softmax'))\n",
        "    model.compile(optimizer='adam', loss='categorical_crossentropy', metrics=['accuracy']) \n",
        "    \n",
        "    return model\n",
        "\n",
        "\n",
        "\n"
      ],
      "execution_count": 0,
      "outputs": []
    },
    {
      "metadata": {
        "id": "FeFNtL6ygycj",
        "colab_type": "code",
        "colab": {}
      },
      "cell_type": "code",
      "source": [
        "NIN = build_model_NIN()\n",
        "print(NIN)"
      ],
      "execution_count": 0,
      "outputs": []
    },
    {
      "metadata": {
        "id": "kxlX_U0-gKFV",
        "colab_type": "code",
        "colab": {}
      },
      "cell_type": "code",
      "source": [
        "tbCallBack =TrainValTensorBoard(log_dir='logs_keras_new/model_NIN_ep150',write_graph=True)\n",
        "datagen.fit(train_x)\n",
        "\n",
        "#training\n",
        "start = time.time()\n",
        "\n",
        "batch_size = 128\n",
        "epochs=150\n",
        "iterations = int(train_x.shape[0]/128)\n",
        "steps_per_epoch=iterations\n",
        "fit_history_nin_150 = NIN.fit_generator(datagen.flow(train_x, train_y, batch_size=batch_size),\n",
        "                                         steps_per_epoch=iterations,\n",
        "                                         epochs=epochs,\n",
        "                                         verbose=1,\n",
        "                                         validation_data=(valid_x,valid_y),\n",
        "                                         callbacks=[tbCallBack])\n",
        "NIN.save('model/model_nin_ep150.h5')\n",
        "\n",
        "end = time.time()\n",
        "print(\"Model took %0.2f seconds to train\"%(end - start))\n"
      ],
      "execution_count": 0,
      "outputs": []
    },
    {
      "metadata": {
        "id": "Pwuk2NpjgcsT",
        "colab_type": "code",
        "colab": {}
      },
      "cell_type": "code",
      "source": [
        "NIN = build_model_NIN()"
      ],
      "execution_count": 0,
      "outputs": []
    },
    {
      "metadata": {
        "id": "l-jjkUGNg6R1",
        "colab_type": "code",
        "colab": {}
      },
      "cell_type": "code",
      "source": [
        "tbCallBack =TrainValTensorBoard(log_dir='logs_keras_new/model_NIN_ep250',write_graph=True)\n",
        "datagen.fit(train_x)\n",
        "\n",
        "#training\n",
        "start = time.time()\n",
        "\n",
        "batch_size = 128\n",
        "epochs=250\n",
        "iterations = int(train_x.shape[0]/128)\n",
        "steps_per_epoch=iterations\n",
        "fit_history_nin_250 = NIN.fit_generator(datagen.flow(train_x, train_y, batch_size=batch_size),\n",
        "                                         steps_per_epoch=iterations,\n",
        "                                         epochs=epochs,\n",
        "                                         verbose=1,\n",
        "                                         validation_data=(valid_x,valid_y),\n",
        "                                         callbacks=[tbCallBack])\n",
        "NIN.save('model/model_nin_ep250.h5')\n",
        "\n",
        "end = time.time()\n",
        "print(\"Model took %0.2f seconds to train\"%(end - start))"
      ],
      "execution_count": 0,
      "outputs": []
    }
  ]
}