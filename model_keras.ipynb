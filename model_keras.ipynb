{
  "nbformat": 4,
  "nbformat_minor": 0,
  "metadata": {
    "colab": {
      "name": "model_keras.ipynb",
      "version": "0.3.2",
      "provenance": [],
      "collapsed_sections": [],
      "include_colab_link": true
    },
    "kernelspec": {
      "name": "python3",
      "display_name": "Python 3"
    },
    "accelerator": "GPU"
  },
  "cells": [
    {
      "cell_type": "markdown",
      "metadata": {
        "id": "view-in-github",
        "colab_type": "text"
      },
      "source": [
        "<a href=\"https://colab.research.google.com/github/wxya2017/GR5242-CIFAR10/blob/master/model_keras.ipynb\" target=\"_parent\"><img src=\"https://colab.research.google.com/assets/colab-badge.svg\" alt=\"Open In Colab\"/></a>"
      ]
    },
    {
      "metadata": {
        "id": "XyInzOma_NpF",
        "colab_type": "code",
        "colab": {}
      },
      "cell_type": "code",
      "source": [
        "!mkdir data"
      ],
      "execution_count": 0,
      "outputs": []
    },
    {
      "metadata": {
        "id": "OzwHB_Wq_Iol",
        "colab_type": "code",
        "colab": {}
      },
      "cell_type": "code",
      "source": [
        "import os\n",
        "import cv2\n",
        "import numpy as np\n",
        "import seaborn as sn\n",
        "import pandas as pd\n",
        "import matplotlib.pyplot as plt\n",
        "from sklearn.cross_validation import train_test_split\n",
        "from sklearn.metrics import confusion_matrix\n",
        "import tensorflow as tf\n",
        "\n",
        "import keras\n",
        "from keras.models import Sequential, load_model\n",
        "from keras.utils import np_utils\n",
        "from keras.preprocessing.image import ImageDataGenerator\n",
        "from keras.layers import Dense, Activation, Flatten, Dropout\n",
        "from keras.layers.normalization import BatchNormalization\n",
        "from keras.layers import Conv2D, MaxPooling2D\n",
        "from keras import regularizers, optimizers\n",
        "from keras.datasets import cifar10\n",
        "import time"
      ],
      "execution_count": 0,
      "outputs": []
    },
    {
      "metadata": {
        "id": "AjPORDsf_eo1",
        "colab_type": "code",
        "colab": {}
      },
      "cell_type": "code",
      "source": [
        "def unpickle(file):\n",
        "    import pickle\n",
        "    with open(file, 'rb') as fo:\n",
        "        dict = pickle.load(fo, encoding='bytes')\n",
        "    return dict\n",
        "\n",
        "\n",
        "\n",
        "def load_data(dir):\n",
        "    train_x = np.array(unpickle(dir+'data_batch_1')[b'data'])\n",
        "    train_y = np.array(unpickle(dir+'data_batch_1')[b'labels'])\n",
        "    for i in range(2,6):\n",
        "        train_x = np.concatenate((train_x, np.array(unpickle(dir+'data_batch_'+str(i))[b'data'])), axis = 0)\n",
        "        train_y = np.concatenate((train_y, np.array(unpickle(dir+'data_batch_'+str(i))[b'labels'])),axis = 0)\n",
        "\n",
        "\n",
        "    test_x = np.array(unpickle(dir+'test_batch')[b'data'])\n",
        "    test_y = np.array(unpickle(dir+'test_batch')[b'labels'])   \n",
        "    labels = unpickle(dir+'batches.meta')[b'label_names']\n",
        "    return train_x, train_y, test_x, test_y, labels"
      ],
      "execution_count": 0,
      "outputs": []
    },
    {
      "metadata": {
        "id": "nubuLj0H_oR0",
        "colab_type": "code",
        "colab": {}
      },
      "cell_type": "code",
      "source": [
        "def reshape(image):\n",
        "    out = np.zeros(shape=[32,32,3])\n",
        "    for i in range(3):\n",
        "        out[:,:,i] = image[1024*i:1024*(i+1)].reshape([32,32])\n",
        "    return out\n",
        "\n",
        "def pre_process_x(x):\n",
        "    new_x = np.zeros(shape=[len(x),32,32,3])\n",
        "    for i in range(len(x)):\n",
        "        new_x[i] = reshape(x[i])\n",
        "    new_x = new_x/255\n",
        "    return new_x\n",
        "\n",
        "def pre_process_y(y):\n",
        "    new_y = np.zeros([len(y),10])\n",
        "    for i in range(len(y)):\n",
        "        new_y[i][y[i]-1] = 1\n",
        "    return new_y"
      ],
      "execution_count": 0,
      "outputs": []
    },
    {
      "metadata": {
        "id": "eBQAiNV6_pD2",
        "colab_type": "code",
        "outputId": "d19727b2-fe6e-45a6-b136-1733cc5f8a3e",
        "colab": {
          "base_uri": "https://localhost:8080/",
          "height": 87
        }
      },
      "cell_type": "code",
      "source": [
        "ori_train_x, ori_train_y, ori_test_x, ori_test_y, labels = load_data('data/')\n",
        "\n",
        "train_x = pre_process_x(ori_train_x)\n",
        "test_x = pre_process_x(ori_test_x)\n",
        "train_y = pre_process_y(ori_train_y)\n",
        "test_y = pre_process_y(ori_test_y)\n",
        "print(\"===>training data shape is \"+ str(train_x.shape))\n",
        "print(\"===>test data shape is \"+ str(test_x.shape))\n",
        "print(\"===>training label shape is \"+ str(train_y.shape))\n",
        "print(\"===>test label shape is \"+ str(test_y.shape))"
      ],
      "execution_count": 4,
      "outputs": [
        {
          "output_type": "stream",
          "text": [
            "===>training data shape is (50000, 32, 32, 3)\n",
            "===>test data shape is (10000, 32, 32, 3)\n",
            "===>training label shape is (50000, 10)\n",
            "===>test label shape is (10000, 10)\n"
          ],
          "name": "stdout"
        }
      ]
    },
    {
      "metadata": {
        "id": "X-9HYoZ1BO9x",
        "colab_type": "code",
        "colab": {}
      },
      "cell_type": "code",
      "source": [
        "train_x, valid_x, train_y, valid_y = train_test_split(train_x, train_y, test_size = 0.2, random_state = 0)"
      ],
      "execution_count": 0,
      "outputs": []
    },
    {
      "metadata": {
        "id": "47kJF7Lw_u1X",
        "colab_type": "code",
        "colab": {}
      },
      "cell_type": "code",
      "source": [
        "# Functions for plots\n",
        "def plot_model_history(model_history):\n",
        "    fig, axs = plt.subplots(1, 2,figsize=(10, 5))\n",
        "    # summarize history for accuracy\n",
        "    axs[0].plot(range(1,len(model_history.history['acc'])+1),model_history.history['acc'])\n",
        "    axs[0].plot(range(1,len(model_history.history['val_acc'])+1),model_history.history['val_acc'])\n",
        "    axs[0].set_title('Model Accuracy')\n",
        "    axs[0].set_ylabel('Accuracy')\n",
        "    axs[0].set_xlabel('Epoch')\n",
        "    axs[0].set_xticks(np.arange(1,len(model_history.history['acc'])+1),len(model_history.history['acc'])/10)\n",
        "    axs[0].legend(['train', 'validation'], loc='best')\n",
        "    # summarize history for loss\n",
        "    axs[1].plot(range(1,len(model_history.history['loss'])+1),model_history.history['loss'])\n",
        "    axs[1].plot(range(1,len(model_history.history['val_loss'])+1),model_history.history['val_loss'])\n",
        "    axs[1].set_title('Model Loss')\n",
        "    axs[1].set_ylabel('Loss')\n",
        "    axs[1].set_xlabel('Epoch')\n",
        "    axs[1].set_xticks(np.arange(1,len(model_history.history['loss'])+1),len(model_history.history['loss'])/10)\n",
        "    axs[1].legend(['train', 'validation'], loc='best')\n",
        "    plt.show()"
      ],
      "execution_count": 0,
      "outputs": []
    },
    {
      "metadata": {
        "id": "lTAnAuYUr8FP",
        "colab_type": "text"
      },
      "cell_type": "markdown",
      "source": [
        "# baseline"
      ]
    },
    {
      "metadata": {
        "id": "ho_IJuC8_xma",
        "colab_type": "code",
        "colab": {}
      },
      "cell_type": "code",
      "source": [
        "# Define the model\n",
        "num_classes = 10\n",
        "\n",
        "# kernel_regularizer=regularizers.l2(weight_decay)\n",
        "model = Sequential()\n",
        "model.add(Conv2D(32, (5,5), padding='same', kernel_regularizer = regularizers.l2(0.001), input_shape=(32, 32, 3)))\n",
        "model.add(Activation('relu'))\n",
        "model.add(BatchNormalization())\n",
        "model.add(Conv2D(64, (3,3), padding='same', kernel_regularizer = regularizers.l2(0.001)))\n",
        "model.add(Activation('relu'))\n",
        "model.add(Dropout(0.2))\n",
        "model.add(MaxPooling2D(pool_size=(2,2)))\n",
        "\n",
        "\n",
        "model.add(Conv2D(32, (3,3), padding='same', kernel_regularizer = regularizers.l2(0.001)))\n",
        "model.add(Activation('relu'))\n",
        "model.add(BatchNormalization())\n",
        "model.add(MaxPooling2D(pool_size=(2,2)))\n",
        "model.add(Conv2D(32, (5,5), padding='same', kernel_regularizer = regularizers.l2(0.001)))\n",
        "model.add(Activation('relu'))\n",
        "model.add(BatchNormalization())\n",
        "model.add(MaxPooling2D(pool_size=(2,2)))\n",
        "\n",
        "model.add(Conv2D(16, (3,3), padding='same'))\n",
        "model.add(Dropout(0.5))\n",
        "model.add(Activation('relu'))\n",
        "\n",
        "model.add(Flatten())\n",
        "model.add(Dense(32, activation='relu'))\n",
        "model.add(Dense(num_classes, activation='softmax'))\n",
        "\n",
        "# Summarize the model\n",
        "model.summary()\n",
        "\n",
        "# Compile the model\n",
        "model.compile(optimizer='adam', loss='categorical_crossentropy', metrics=['accuracy']) \n"
      ],
      "execution_count": 0,
      "outputs": []
    },
    {
      "metadata": {
        "id": "Jgrlb6fIA8Hw",
        "colab_type": "code",
        "colab": {
          "base_uri": "https://localhost:8080/",
          "height": 1832
        },
        "outputId": "df00effb-63e5-47ed-d67f-e1527c66dc2a"
      },
      "cell_type": "code",
      "source": [
        "# Train the model\n",
        "start = time.time()\n",
        "fit_history = model.fit(train_x, train_y,\n",
        "                       batch_size=128, epochs=50,\n",
        "                       validation_data = (valid_x, valid_y),\n",
        "                       verbose=1)\n",
        "end = time.time()\n",
        "\n",
        "# Training time\n",
        "print(\"Model took %0.2f seconds to train\"%(end - start))"
      ],
      "execution_count": 77,
      "outputs": [
        {
          "output_type": "stream",
          "text": [
            "Train on 40000 samples, validate on 10000 samples\n",
            "Epoch 1/50\n",
            "40000/40000 [==============================] - 20s 511us/step - loss: 1.8997 - acc: 0.3453 - val_loss: 1.9435 - val_acc: 0.3890\n",
            "Epoch 2/50\n",
            "40000/40000 [==============================] - 17s 417us/step - loss: 1.4710 - acc: 0.5072 - val_loss: 1.3537 - val_acc: 0.5478\n",
            "Epoch 3/50\n",
            "40000/40000 [==============================] - 17s 423us/step - loss: 1.2806 - acc: 0.5805 - val_loss: 1.3219 - val_acc: 0.5601\n",
            "Epoch 4/50\n",
            "40000/40000 [==============================] - 17s 420us/step - loss: 1.1588 - acc: 0.6237 - val_loss: 1.3625 - val_acc: 0.5608\n",
            "Epoch 5/50\n",
            "40000/40000 [==============================] - 17s 419us/step - loss: 1.0843 - acc: 0.6553 - val_loss: 1.2720 - val_acc: 0.5843\n",
            "Epoch 6/50\n",
            "40000/40000 [==============================] - 17s 416us/step - loss: 1.0176 - acc: 0.6768 - val_loss: 1.3864 - val_acc: 0.5506\n",
            "Epoch 7/50\n",
            "40000/40000 [==============================] - 17s 425us/step - loss: 0.9720 - acc: 0.6951 - val_loss: 1.1515 - val_acc: 0.6399\n",
            "Epoch 8/50\n",
            "40000/40000 [==============================] - 17s 421us/step - loss: 0.9319 - acc: 0.7089 - val_loss: 1.0324 - val_acc: 0.6802\n",
            "Epoch 9/50\n",
            "40000/40000 [==============================] - 17s 418us/step - loss: 0.8937 - acc: 0.7253 - val_loss: 1.1236 - val_acc: 0.6567\n",
            "Epoch 10/50\n",
            "40000/40000 [==============================] - 16s 408us/step - loss: 0.8720 - acc: 0.7334 - val_loss: 1.0606 - val_acc: 0.6773\n",
            "Epoch 11/50\n",
            "40000/40000 [==============================] - 16s 409us/step - loss: 0.8485 - acc: 0.7411 - val_loss: 1.1774 - val_acc: 0.6443\n",
            "Epoch 12/50\n",
            "40000/40000 [==============================] - 16s 409us/step - loss: 0.8286 - acc: 0.7484 - val_loss: 1.0074 - val_acc: 0.6933\n",
            "Epoch 13/50\n",
            "40000/40000 [==============================] - 16s 408us/step - loss: 0.8106 - acc: 0.7556 - val_loss: 0.9805 - val_acc: 0.6929\n",
            "Epoch 14/50\n",
            "40000/40000 [==============================] - 16s 404us/step - loss: 0.7969 - acc: 0.7611 - val_loss: 1.0190 - val_acc: 0.6921\n",
            "Epoch 15/50\n",
            "40000/40000 [==============================] - 16s 410us/step - loss: 0.7769 - acc: 0.7668 - val_loss: 0.9719 - val_acc: 0.7122\n",
            "Epoch 16/50\n",
            "40000/40000 [==============================] - 16s 411us/step - loss: 0.7699 - acc: 0.7710 - val_loss: 0.9426 - val_acc: 0.7170\n",
            "Epoch 17/50\n",
            "40000/40000 [==============================] - 16s 410us/step - loss: 0.7553 - acc: 0.7789 - val_loss: 0.9132 - val_acc: 0.7219\n",
            "Epoch 18/50\n",
            "40000/40000 [==============================] - 16s 405us/step - loss: 0.7445 - acc: 0.7825 - val_loss: 0.8941 - val_acc: 0.7332\n",
            "Epoch 19/50\n",
            "40000/40000 [==============================] - 16s 408us/step - loss: 0.7368 - acc: 0.7855 - val_loss: 1.0461 - val_acc: 0.6840\n",
            "Epoch 20/50\n",
            "40000/40000 [==============================] - 16s 411us/step - loss: 0.7242 - acc: 0.7916 - val_loss: 0.9657 - val_acc: 0.7156\n",
            "Epoch 21/50\n",
            "40000/40000 [==============================] - 16s 409us/step - loss: 0.7198 - acc: 0.7928 - val_loss: 0.9707 - val_acc: 0.7136\n",
            "Epoch 22/50\n",
            "40000/40000 [==============================] - 16s 408us/step - loss: 0.7135 - acc: 0.7952 - val_loss: 1.2231 - val_acc: 0.6551\n",
            "Epoch 23/50\n",
            "40000/40000 [==============================] - 16s 409us/step - loss: 0.7039 - acc: 0.7978 - val_loss: 1.1274 - val_acc: 0.6788\n",
            "Epoch 24/50\n",
            "40000/40000 [==============================] - 17s 414us/step - loss: 0.6925 - acc: 0.8033 - val_loss: 0.9733 - val_acc: 0.7136\n",
            "Epoch 25/50\n",
            "40000/40000 [==============================] - 16s 412us/step - loss: 0.6872 - acc: 0.8068 - val_loss: 0.8671 - val_acc: 0.7481\n",
            "Epoch 26/50\n",
            "40000/40000 [==============================] - 17s 416us/step - loss: 0.6823 - acc: 0.8103 - val_loss: 0.8507 - val_acc: 0.7584\n",
            "Epoch 27/50\n",
            "40000/40000 [==============================] - 16s 405us/step - loss: 0.6790 - acc: 0.8085 - val_loss: 0.8591 - val_acc: 0.7520\n",
            "Epoch 28/50\n",
            "40000/40000 [==============================] - 16s 408us/step - loss: 0.6729 - acc: 0.8129 - val_loss: 0.8873 - val_acc: 0.7517\n",
            "Epoch 29/50\n",
            "40000/40000 [==============================] - 16s 407us/step - loss: 0.6667 - acc: 0.8159 - val_loss: 0.8345 - val_acc: 0.7634\n",
            "Epoch 30/50\n",
            "40000/40000 [==============================] - 16s 411us/step - loss: 0.6560 - acc: 0.8195 - val_loss: 0.9670 - val_acc: 0.7335\n",
            "Epoch 31/50\n",
            "40000/40000 [==============================] - 16s 404us/step - loss: 0.6542 - acc: 0.8219 - val_loss: 1.2400 - val_acc: 0.6629\n",
            "Epoch 32/50\n",
            "40000/40000 [==============================] - 16s 406us/step - loss: 0.6542 - acc: 0.8211 - val_loss: 1.0510 - val_acc: 0.7067\n",
            "Epoch 33/50\n",
            "40000/40000 [==============================] - 16s 409us/step - loss: 0.6461 - acc: 0.8271 - val_loss: 0.9742 - val_acc: 0.7236\n",
            "Epoch 34/50\n",
            "40000/40000 [==============================] - 17s 416us/step - loss: 0.6407 - acc: 0.8264 - val_loss: 1.2064 - val_acc: 0.6669\n",
            "Epoch 35/50\n",
            "40000/40000 [==============================] - 16s 408us/step - loss: 0.6370 - acc: 0.8287 - val_loss: 1.0270 - val_acc: 0.7209\n",
            "Epoch 36/50\n",
            "40000/40000 [==============================] - 16s 407us/step - loss: 0.6386 - acc: 0.8304 - val_loss: 0.9324 - val_acc: 0.7413\n",
            "Epoch 37/50\n",
            "40000/40000 [==============================] - 16s 411us/step - loss: 0.6281 - acc: 0.8319 - val_loss: 0.9280 - val_acc: 0.7457\n",
            "Epoch 38/50\n",
            "40000/40000 [==============================] - 16s 411us/step - loss: 0.6207 - acc: 0.8346 - val_loss: 0.8840 - val_acc: 0.7497\n",
            "Epoch 39/50\n",
            "40000/40000 [==============================] - 16s 401us/step - loss: 0.6188 - acc: 0.8369 - val_loss: 0.8629 - val_acc: 0.7618\n",
            "Epoch 40/50\n",
            "40000/40000 [==============================] - 16s 406us/step - loss: 0.6184 - acc: 0.8367 - val_loss: 0.9520 - val_acc: 0.7336\n",
            "Epoch 41/50\n",
            "40000/40000 [==============================] - 16s 412us/step - loss: 0.6134 - acc: 0.8387 - val_loss: 0.9767 - val_acc: 0.7266\n",
            "Epoch 42/50\n",
            "40000/40000 [==============================] - 16s 407us/step - loss: 0.6079 - acc: 0.8413 - val_loss: 0.9181 - val_acc: 0.7540\n",
            "Epoch 43/50\n",
            "40000/40000 [==============================] - 16s 410us/step - loss: 0.6118 - acc: 0.8387 - val_loss: 1.0076 - val_acc: 0.7214\n",
            "Epoch 44/50\n",
            "40000/40000 [==============================] - 17s 415us/step - loss: 0.6079 - acc: 0.8424 - val_loss: 0.9949 - val_acc: 0.7363\n",
            "Epoch 45/50\n",
            "40000/40000 [==============================] - 16s 409us/step - loss: 0.6031 - acc: 0.8436 - val_loss: 1.0700 - val_acc: 0.7213\n",
            "Epoch 46/50\n",
            "40000/40000 [==============================] - 16s 411us/step - loss: 0.5981 - acc: 0.8468 - val_loss: 0.8806 - val_acc: 0.7624\n",
            "Epoch 47/50\n",
            "40000/40000 [==============================] - 16s 408us/step - loss: 0.6035 - acc: 0.8446 - val_loss: 0.8840 - val_acc: 0.7567\n",
            "Epoch 48/50\n",
            "40000/40000 [==============================] - 16s 404us/step - loss: 0.5942 - acc: 0.8454 - val_loss: 0.8777 - val_acc: 0.7633\n",
            "Epoch 49/50\n",
            "40000/40000 [==============================] - 16s 406us/step - loss: 0.5975 - acc: 0.8476 - val_loss: 0.9139 - val_acc: 0.7548\n",
            "Epoch 50/50\n",
            "40000/40000 [==============================] - 16s 405us/step - loss: 0.5893 - acc: 0.8487 - val_loss: 0.8111 - val_acc: 0.7864\n",
            "Model took 827.48 seconds to train\n"
          ],
          "name": "stdout"
        }
      ]
    },
    {
      "metadata": {
        "id": "jwmx11V1BofQ",
        "colab_type": "code",
        "colab": {
          "base_uri": "https://localhost:8080/",
          "height": 402
        },
        "outputId": "5545e5b5-294f-4ca9-f85f-d565e7b04b3e"
      },
      "cell_type": "code",
      "source": [
        "plot_model_history(fit_history)\n",
        "\n",
        "acc = model.evaluate(test_x, test_y, batch_size=128, verbose=1)\n",
        "print('\\nTest result: %.3f loss: %.3f' % (acc[1]*100, acc[0]))"
      ],
      "execution_count": 78,
      "outputs": [
        {
          "output_type": "display_data",
          "data": {
            "image/png": "[encoded data removed]",
            "text/plain": [
              "<matplotlib.figure.Figure at 0x7fb312567438>"
            ]
          },
          "metadata": {
            "tags": []
          }
        },
        {
          "output_type": "stream",
          "text": [
            "10000/10000 [==============================] - 1s 149us/step\n",
            "\n",
            "Test result: 77.740 loss: 0.838\n"
          ],
          "name": "stdout"
        }
      ]
    },
    {
      "metadata": {
        "id": "n4ymZQ9kgITD",
        "colab_type": "code",
        "colab": {}
      },
      "cell_type": "code",
      "source": [
        "model.save('keras_model1.h5')"
      ],
      "execution_count": 0,
      "outputs": []
    },
    {
      "metadata": {
        "id": "Rs6SVaHDmuB4",
        "colab_type": "code",
        "colab": {}
      },
      "cell_type": "code",
      "source": [
        "# del model\n",
        "model = load_model('keras_model1.h5')"
      ],
      "execution_count": 0,
      "outputs": []
    },
    {
      "metadata": {
        "id": "6s9lVToENWRV",
        "colab_type": "code",
        "colab": {
          "base_uri": "https://localhost:8080/",
          "height": 34
        },
        "outputId": "31a25ec1-cd0e-4d9f-aac2-6c08c90cb45c"
      },
      "cell_type": "code",
      "source": [
        "y_prob = model.predict(test_x) \n",
        "y_pred = y_prob.argmax(axis=-1)\n",
        "y_pred[:5]"
      ],
      "execution_count": 88,
      "outputs": [
        {
          "output_type": "execute_result",
          "data": {
            "text/plain": [
              "array([2, 7, 7, 9, 5])"
            ]
          },
          "metadata": {
            "tags": []
          },
          "execution_count": 88
        }
      ]
    },
    {
      "metadata": {
        "id": "JgQo35TWiUPC",
        "colab_type": "code",
        "colab": {
          "base_uri": "https://localhost:8080/",
          "height": 34
        },
        "outputId": "d3fc1d1a-f78c-4b5d-aa3c-3afe5bcab3cb"
      },
      "cell_type": "code",
      "source": [
        "y_true = np.where(test_y == 1)[1]\n",
        "y_true[:5]"
      ],
      "execution_count": 80,
      "outputs": [
        {
          "output_type": "execute_result",
          "data": {
            "text/plain": [
              "array([2, 7, 7, 9, 5])"
            ]
          },
          "metadata": {
            "tags": []
          },
          "execution_count": 80
        }
      ]
    },
    {
      "metadata": {
        "id": "Wn5-i1P75W0C",
        "colab_type": "code",
        "colab": {
          "base_uri": "https://localhost:8080/",
          "height": 193
        },
        "outputId": "cd50b4be-cfa1-414a-eaa1-8be6243b8fd1"
      },
      "cell_type": "code",
      "source": [
        "cm = confusion_matrix(y_true, y_pred, labels = range(10))\n",
        "df_cm = pd.DataFrame(cm, index = [i for i in labels],\n",
        "                     columns = [i for i in labels])\n",
        "plt.figure(figsize = (10,7))\n",
        "sn.heatmap(df_cm, annot=True)"
      ],
      "execution_count": 89,
      "outputs": [
        {
          "output_type": "execute_result",
          "data": {
            "text/plain": [
              "array([[878,   4,   3,   1,   4,   9,   2,  45,  38,  16],\n",
              "       [  0, 718,  45,  45,  39,  76,  13,  16,   1,  47],\n",
              "       [  1,  70, 644,  54, 121,  59,  17,   8,   3,  23],\n",
              "       [  1,  70,  50, 786,  11,  29,  24,  11,   0,  18],\n",
              "       [  0,  59, 155,  38, 675,  27,  29,   3,   1,  13],\n",
              "       [  2,  38,  52,  22,  14, 864,   1,   3,   1,   3],\n",
              "       [  2,  56,  47,  52,  44,   9, 758,   4,   5,  23],\n",
              "       [  5,  13,  13,   1,   0,   6,   0, 907,   7,  48],\n",
              "       [ 75,  12,  19,   2,   4,   4,   8,  60, 779,  37],\n",
              "       [  8,  83,  22,   8,   5,   5,   5,  86,  13, 765]])"
            ]
          },
          "metadata": {
            "tags": []
          },
          "execution_count": 89
        }
      ]
    },
    {
      "metadata": {
        "id": "kWadb2emr36r",
        "colab_type": "text"
      },
      "cell_type": "markdown",
      "source": [
        "# model 2"
      ]
    },
    {
      "metadata": {
        "id": "QEKzXzI5rtXo",
        "colab_type": "code",
        "colab": {}
      },
      "cell_type": "code",
      "source": [
        "baseMapNum = 32\n",
        "weight_decay = 1e-4\n",
        "model = Sequential()\n",
        "model.add(Conv2D(baseMapNum, (3,3), padding='same', kernel_regularizer=regularizers.l2(weight_decay), input_shape=x_train.shape[1:]))\n",
        "model.add(Activation('relu'))\n",
        "model.add(BatchNormalization())\n",
        "model.add(Conv2D(baseMapNum, (3,3), padding='same', kernel_regularizer=regularizers.l2(weight_decay)))\n",
        "model.add(Activation('relu'))\n",
        "model.add(BatchNormalization())\n",
        "model.add(MaxPooling2D(pool_size=(2,2)))\n",
        "model.add(Dropout(0.2))\n",
        "\n",
        "model.add(Conv2D(2*baseMapNum, (3,3), padding='same', kernel_regularizer=regularizers.l2(weight_decay)))\n",
        "model.add(Activation('relu'))\n",
        "model.add(BatchNormalization())\n",
        "model.add(Conv2D(2*baseMapNum, (3,3), padding='same', kernel_regularizer=regularizers.l2(weight_decay)))\n",
        "model.add(Activation('relu'))\n",
        "model.add(BatchNormalization())\n",
        "model.add(MaxPooling2D(pool_size=(2,2)))\n",
        "model.add(Dropout(0.3))\n",
        "\n",
        "model.add(Conv2D(4*baseMapNum, (3,3), padding='same', kernel_regularizer=regularizers.l2(weight_decay)))\n",
        "model.add(Activation('relu'))\n",
        "model.add(BatchNormalization())\n",
        "model.add(Conv2D(4*baseMapNum, (3,3), padding='same', kernel_regularizer=regularizers.l2(weight_decay)))\n",
        "model.add(Activation('relu'))\n",
        "model.add(BatchNormalization())\n",
        "model.add(MaxPooling2D(pool_size=(2,2)))\n",
        "model.add(Dropout(0.4))\n",
        "\n",
        "model.add(Flatten())\n",
        "model.add(Dense(num_classes, activation='softmax'))\n",
        "\n",
        "model.summary()"
      ],
      "execution_count": 0,
      "outputs": []
    },
    {
      "metadata": {
        "id": "abn6TqzyryC0",
        "colab_type": "code",
        "colab": {}
      },
      "cell_type": "code",
      "source": [
        "#data augmentation\n",
        "datagen = ImageDataGenerator(\n",
        "    featurewise_center=False,\n",
        "    samplewise_center=False,\n",
        "    featurewise_std_normalization=False,\n",
        "    samplewise_std_normalization=False,\n",
        "    zca_whitening=False,\n",
        "    rotation_range=15,\n",
        "    width_shift_range=0.1,\n",
        "    height_shift_range=0.1,\n",
        "    horizontal_flip=True,\n",
        "    vertical_flip=False\n",
        "    )\n",
        "datagen.fit(x_train)\n"
      ],
      "execution_count": 0,
      "outputs": []
    },
    {
      "metadata": {
        "id": "f3T4I2xZoeIn",
        "colab_type": "code",
        "colab": {
          "base_uri": "https://localhost:8080/",
          "height": 318
        },
        "outputId": "9bfe1c68-2599-4dc2-929c-60fda3e98952"
      },
      "cell_type": "code",
      "source": [
        "#training\n",
        "batch_size = 64\n",
        "epochs=25\n",
        "opt_rms = keras.optimizers.rmsprop(lr=0.001,decay=1e-6)\n",
        "model.compile(loss='categorical_crossentropy',\n",
        "        optimizer=opt_rms,\n",
        "        metrics=['accuracy'])\n",
        "model.fit_generator(datagen.flow(train_x, train_y, batch_size=batch_size),steps_per_epoch=train_x.shape[0] // batch_size,epochs=2*epochs,verbose=1,validation_data=(valid_x,valid_))\n",
        "# model.save_weights('cifar10_normal_rms_ep75.h5')\n",
        "\n",
        "# opt_rms = keras.optimizers.rmsprop(lr=0.0005,decay=1e-6)\n",
        "# model.compile(loss='categorical_crossentropy',\n",
        "#         optimizer=opt_rms,\n",
        "#         metrics=['accuracy'])\n",
        "# model.fit_generator(datagen.flow(x_train, y_train, batch_size=batch_size),steps_per_epoch=x_train.shape[0] // batch_size,epochs=epochs,verbose=1,validation_data=(x_test,y_test))\n",
        "# model.save_weights('cifar10_normal_rms_ep100.h5')\n",
        "\n",
        "# opt_rms = keras.optimizers.rmsprop(lr=0.0003,decay=1e-6)\n",
        "# model.compile(loss='categorical_crossentropy',\n",
        "#         optimizer=opt_rms,\n",
        "#         metrics=['accuracy'])\n",
        "# model.fit_generator(datagen.flow(x_train, y_train, batch_size=batch_size),steps_per_epoch=x_train.shape[0] // batch_size,epochs=epochs,verbose=1,validation_data=(x_test,y_test))\n",
        "# model.save_weights('cifar10_normal_rms_ep125.h5')"
      ],
      "execution_count": 0,
      "outputs": [
        {
          "output_type": "stream",
          "text": [
            "Epoch 1/50\n",
            "625/625 [==============================] - 56s 90ms/step - loss: 1.9837 - acc: 0.4145 - val_loss: 11.4455 - val_acc: 0.1513\n",
            "Epoch 2/50\n",
            "625/625 [==============================] - 48s 77ms/step - loss: 1.4827 - acc: 0.5539 - val_loss: 1.4303 - val_acc: 0.5644\n",
            "Epoch 3/50\n",
            "625/625 [==============================] - 48s 76ms/step - loss: 1.2839 - acc: 0.6238 - val_loss: 1.0976 - val_acc: 0.6651\n",
            "Epoch 4/50\n",
            "625/625 [==============================] - 49s 78ms/step - loss: 1.1799 - acc: 0.6608 - val_loss: 1.0061 - val_acc: 0.6935\n",
            "Epoch 5/50\n",
            "625/625 [==============================] - 49s 79ms/step - loss: 1.1154 - acc: 0.6865 - val_loss: 1.1880 - val_acc: 0.6781\n",
            "Epoch 6/50\n",
            "625/625 [==============================] - 48s 77ms/step - loss: 1.1085 - acc: 0.7007 - val_loss: 0.8847 - val_acc: 0.7346\n",
            "Epoch 7/50\n",
            "625/625 [==============================] - 48s 77ms/step - loss: 1.1918 - acc: 0.6954 - val_loss: 1.4602 - val_acc: 0.6948\n",
            "Epoch 8/50\n",
            "176/625 [=======>......................] - ETA: 32s - loss: 1.2123 - acc: 0.6970"
          ],
          "name": "stdout"
        }
      ]
    },
    {
      "metadata": {
        "id": "Nvtv4C60otJq",
        "colab_type": "code",
        "colab": {}
      },
      "cell_type": "code",
      "source": [
        "#testing - no kaggle eval\n",
        "scores = model.evaluate(x_test, y_test, batch_size=128, verbose=1)\n",
        "print('\\nTest result: %.3f loss: %.3f' % (scores[1]*100,scores[0]))"
      ],
      "execution_count": 0,
      "outputs": []
    },
    {
      "metadata": {
        "id": "14TfPArFsAC7",
        "colab_type": "text"
      },
      "cell_type": "markdown",
      "source": [
        "# model 3"
      ]
    },
    {
      "metadata": {
        "id": "e28-JoMDrJGE",
        "colab_type": "code",
        "colab": {}
      },
      "cell_type": "code",
      "source": [
        "from keras.datasets import mnist\n",
        "import numpy as np\n",
        "from keras.utils.np_utils import to_categorical\n",
        "from keras.layers import Flatten\n",
        "from keras.layers import Activation\n",
        "from keras.layers import Input, Dense, Conv2D, MaxPooling2D,AveragePooling2D,Reshape\n",
        "from keras.models import Model\n",
        "from keras import backend as K\n",
        "\n",
        "def preprocess():\n",
        "    (x_train,y_train),(x_test,y_test) = mnist.load_data()\n",
        "    x_train = x_train.astype('float32') / 255.\n",
        "    x_test = x_test.astype('float32') / 255.\n",
        "    x_train = np.reshape(x_train, (len(x_train),28,28, 1))\n",
        "    x_test = np.reshape(x_test, (len(x_test),28,28, 1))\n",
        "    y_train = to_categorical(y_train,10)\n",
        "    y_test = to_categorical(y_test,10)\n",
        "\n",
        "    return (x_train,y_train,x_test,y_test)\n",
        "\n",
        "def model(x):\n",
        "    x1 = Conv2D(11,(1,1),padding = 'same')(x)\n",
        "    x1 = Flatten()(x1)\n",
        "    x1 = Dense(900,activation = 'relu')(x1)\n",
        "    x1 = Dense(900,activation = 'relu')(x1)\n",
        "    x1 = Reshape((30,30,1),input_shape = x1.shape)(x1)\n",
        "    x1 = Conv2D(11,(1,1),padding = 'same')(x1)\n",
        "    x1 = Flatten()(x1)\n",
        "    x1 = Dense(400,activation = 'relu')(x1)\n",
        "    x1 = Dense(400,activation = 'relu')(x1)\n",
        "    x1 = Reshape((20,20,1),input_shape = x1.shape)(x1)\n",
        "    x1 = Conv2D(11,(1,1),padding = 'same')(x1)\n",
        "    x1 = Flatten()(x1)\n",
        "    x1 = Dense(100,activation = 'relu')(x1)\n",
        "    x1 = Dense(100,activation = 'relu')(x1)\n",
        "    x1 = Reshape((10,10,1),input_shape = x1.shape)(x1)\n",
        "    x1 = Conv2D(11,(1,1),padding = 'same')(x1)\n",
        "    x1 = AveragePooling2D((2,2),padding = 'same')(x1)\n",
        "    x1 = Flatten()(x1)\n",
        "    x1 = Dense(10)(x1)\n",
        "    output = Activation('softmax')(x1)\n",
        "    return output\n",
        "\n",
        "input_img = Input(shape = (28,28,1))\n",
        "NiN = Model(input_img,model(input_img))\n",
        "NiN.compile(optimizer='adadelta',loss = 'mean_absolute_percentage_error')\n",
        "x_train,y_train,x_test,y_test = preprocess()\n",
        "NiN.fit(x_train,y_train,\n",
        "            epochs=10,\n",
        "            batch_size=128,\n",
        "            shuffle=True)"
      ],
      "execution_count": 0,
      "outputs": []
    }
  ]
}